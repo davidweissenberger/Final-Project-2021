{
  "nbformat": 4,
  "nbformat_minor": 0,
  "metadata": {
    "colab": {
      "name": "finalproject_Weissenberger.ipynb",
      "provenance": []
    },
    "kernelspec": {
      "name": "python3",
      "display_name": "Python 3"
    },
    "language_info": {
      "name": "python"
    }
  },
  "cells": [
    {
      "cell_type": "markdown",
      "metadata": {
        "id": "dpKfBuUS6KhO"
      },
      "source": [
        "# Final Project \n",
        "## David Weissenberger \n",
        "### 5/14/2021"
      ]
    },
    {
      "cell_type": "markdown",
      "metadata": {
        "id": "I5-Furox9cgg"
      },
      "source": [
        "For this project I examined the Austin, Texas Airbnb data about prices, the types of rentals, and the reviews they got. In this project I created visualizations of the most popular areas to rent, the type of house, the amount of bathrooms, the amount of bedrooms, the year the host joined Airbnb, and the minimum and maximum nights to stay. After that I performed a KNN Regression model to predict the price, a neural network to predict whether a host is good or not, and a text analysis on reviews. Below are my target grades and I attempted to achieve the high target. \n",
        "### Low Target: To be able to achieve C level work I would need to do one of the data analysis approaches I talked about, one of the visualizations, and not clean the data of null values. \n",
        "### Medium Target: To be able to achieve B level work I would need to do all of the visualizations besides the challenge one I set out for myself, I would need to do both the text analysis and the KKN model but not develop the neural network, and I would need to have cleaned all of the data of null values. \n",
        "### High Target: To be able to achieve A level work I need to complete all of model and text analysis, all of the visualizations that I have described, and to have cleaned all of the data. A level work means exceeding what you set out to do which means that all of my models should have high accuracies and my visualizations should be clear and understandable. A level work also means throwing in more of challenge for yourself, for this project it might be creating a cluster model of the location of the homes or a SNA of the location of the homes. \n"
      ]
    },
    {
      "cell_type": "code",
      "metadata": {
        "id": "YWJUMMnh46mt"
      },
      "source": [
        "import numpy as np\n",
        "import matplotlib.pyplot as plt\n",
        "import pandas as pd\n",
        "\n",
        "import seaborn as sns;\n",
        "from sklearn.model_selection import train_test_split\n",
        "from sklearn.neighbors import KNeighborsClassifier\n",
        "from sklearn.metrics import confusion_matrix"
      ],
      "execution_count": null,
      "outputs": []
    },
    {
      "cell_type": "code",
      "metadata": {
        "colab": {
          "base_uri": "https://localhost:8080/",
          "height": 632
        },
        "id": "l1WOiDDY6gGY",
        "outputId": "cbb868ef-6850-4242-db41-bbb12c6522d2"
      },
      "source": [
        "df = pd.read_csv('listings.csv')\n",
        "df.head()"
      ],
      "execution_count": null,
      "outputs": [
        {
          "output_type": "execute_result",
          "data": {
            "text/html": [
              "<div>\n",
              "<style scoped>\n",
              "    .dataframe tbody tr th:only-of-type {\n",
              "        vertical-align: middle;\n",
              "    }\n",
              "\n",
              "    .dataframe tbody tr th {\n",
              "        vertical-align: top;\n",
              "    }\n",
              "\n",
              "    .dataframe thead th {\n",
              "        text-align: right;\n",
              "    }\n",
              "</style>\n",
              "<table border=\"1\" class=\"dataframe\">\n",
              "  <thead>\n",
              "    <tr style=\"text-align: right;\">\n",
              "      <th></th>\n",
              "      <th>id</th>\n",
              "      <th>listing_url</th>\n",
              "      <th>scrape_id</th>\n",
              "      <th>last_scraped</th>\n",
              "      <th>name</th>\n",
              "      <th>description</th>\n",
              "      <th>neighborhood_overview</th>\n",
              "      <th>picture_url</th>\n",
              "      <th>host_id</th>\n",
              "      <th>host_url</th>\n",
              "      <th>host_name</th>\n",
              "      <th>host_since</th>\n",
              "      <th>host_location</th>\n",
              "      <th>host_about</th>\n",
              "      <th>host_response_time</th>\n",
              "      <th>host_response_rate</th>\n",
              "      <th>host_acceptance_rate</th>\n",
              "      <th>host_is_superhost</th>\n",
              "      <th>host_thumbnail_url</th>\n",
              "      <th>host_picture_url</th>\n",
              "      <th>host_neighbourhood</th>\n",
              "      <th>host_listings_count</th>\n",
              "      <th>host_total_listings_count</th>\n",
              "      <th>host_verifications</th>\n",
              "      <th>host_has_profile_pic</th>\n",
              "      <th>host_identity_verified</th>\n",
              "      <th>neighbourhood</th>\n",
              "      <th>neighbourhood_cleansed</th>\n",
              "      <th>neighbourhood_group_cleansed</th>\n",
              "      <th>latitude</th>\n",
              "      <th>longitude</th>\n",
              "      <th>property_type</th>\n",
              "      <th>room_type</th>\n",
              "      <th>accommodates</th>\n",
              "      <th>bathrooms</th>\n",
              "      <th>bathrooms_text</th>\n",
              "      <th>bedrooms</th>\n",
              "      <th>beds</th>\n",
              "      <th>amenities</th>\n",
              "      <th>price</th>\n",
              "      <th>minimum_nights</th>\n",
              "      <th>maximum_nights</th>\n",
              "      <th>minimum_minimum_nights</th>\n",
              "      <th>maximum_minimum_nights</th>\n",
              "      <th>minimum_maximum_nights</th>\n",
              "      <th>maximum_maximum_nights</th>\n",
              "      <th>minimum_nights_avg_ntm</th>\n",
              "      <th>maximum_nights_avg_ntm</th>\n",
              "      <th>calendar_updated</th>\n",
              "      <th>has_availability</th>\n",
              "      <th>availability_30</th>\n",
              "      <th>availability_60</th>\n",
              "      <th>availability_90</th>\n",
              "      <th>availability_365</th>\n",
              "      <th>calendar_last_scraped</th>\n",
              "      <th>number_of_reviews</th>\n",
              "      <th>number_of_reviews_ltm</th>\n",
              "      <th>number_of_reviews_l30d</th>\n",
              "      <th>first_review</th>\n",
              "      <th>last_review</th>\n",
              "      <th>review_scores_rating</th>\n",
              "      <th>review_scores_accuracy</th>\n",
              "      <th>review_scores_cleanliness</th>\n",
              "      <th>review_scores_checkin</th>\n",
              "      <th>review_scores_communication</th>\n",
              "      <th>review_scores_location</th>\n",
              "      <th>review_scores_value</th>\n",
              "      <th>license</th>\n",
              "      <th>instant_bookable</th>\n",
              "      <th>calculated_host_listings_count</th>\n",
              "      <th>calculated_host_listings_count_entire_homes</th>\n",
              "      <th>calculated_host_listings_count_private_rooms</th>\n",
              "      <th>calculated_host_listings_count_shared_rooms</th>\n",
              "      <th>reviews_per_month</th>\n",
              "    </tr>\n",
              "  </thead>\n",
              "  <tbody>\n",
              "    <tr>\n",
              "      <th>0</th>\n",
              "      <td>2265</td>\n",
              "      <td>https://www.airbnb.com/rooms/2265</td>\n",
              "      <td>2.020000e+13</td>\n",
              "      <td>2/12/21</td>\n",
              "      <td>Zen-East in the Heart of Austin (monthly rental)</td>\n",
              "      <td>Zen East is situated in a vibrant &amp; diverse mu...</td>\n",
              "      <td>NaN</td>\n",
              "      <td>https://a0.muscache.com/pictures/4740524/63f82...</td>\n",
              "      <td>2466</td>\n",
              "      <td>https://www.airbnb.com/users/show/2466</td>\n",
              "      <td>Paddy</td>\n",
              "      <td>8/23/08</td>\n",
              "      <td>Austin, Texas, United States</td>\n",
              "      <td>I am a long time resident of Austin. I earned ...</td>\n",
              "      <td>within a few hours</td>\n",
              "      <td>100%</td>\n",
              "      <td>90%</td>\n",
              "      <td>f</td>\n",
              "      <td>https://a0.muscache.com/im/users/2466/profile_...</td>\n",
              "      <td>https://a0.muscache.com/im/users/2466/profile_...</td>\n",
              "      <td>East Downtown</td>\n",
              "      <td>3</td>\n",
              "      <td>3</td>\n",
              "      <td>['email', 'phone', 'facebook', 'reviews', 'kba']</td>\n",
              "      <td>t</td>\n",
              "      <td>t</td>\n",
              "      <td>NaN</td>\n",
              "      <td>78702</td>\n",
              "      <td>NaN</td>\n",
              "      <td>30.27750</td>\n",
              "      <td>-97.71398</td>\n",
              "      <td>Entire house</td>\n",
              "      <td>Entire home/apt</td>\n",
              "      <td>4</td>\n",
              "      <td>NaN</td>\n",
              "      <td>2 baths</td>\n",
              "      <td>2</td>\n",
              "      <td>2</td>\n",
              "      <td>[\"Free parking on premises\", \"Hair dryer\", \"Pa...</td>\n",
              "      <td>$200.00</td>\n",
              "      <td>7</td>\n",
              "      <td>180</td>\n",
              "      <td>7</td>\n",
              "      <td>7</td>\n",
              "      <td>180</td>\n",
              "      <td>180</td>\n",
              "      <td>7.0</td>\n",
              "      <td>180.0</td>\n",
              "      <td>NaN</td>\n",
              "      <td>t</td>\n",
              "      <td>13</td>\n",
              "      <td>13</td>\n",
              "      <td>42</td>\n",
              "      <td>131</td>\n",
              "      <td>2/12/21</td>\n",
              "      <td>24</td>\n",
              "      <td>0</td>\n",
              "      <td>0</td>\n",
              "      <td>3/17/09</td>\n",
              "      <td>3/16/19</td>\n",
              "      <td>93.0</td>\n",
              "      <td>9.0</td>\n",
              "      <td>10.0</td>\n",
              "      <td>10.0</td>\n",
              "      <td>10.0</td>\n",
              "      <td>8.0</td>\n",
              "      <td>9.0</td>\n",
              "      <td>NaN</td>\n",
              "      <td>f</td>\n",
              "      <td>3</td>\n",
              "      <td>2</td>\n",
              "      <td>1</td>\n",
              "      <td>0</td>\n",
              "      <td>0.17</td>\n",
              "    </tr>\n",
              "    <tr>\n",
              "      <th>1</th>\n",
              "      <td>5245</td>\n",
              "      <td>https://www.airbnb.com/rooms/5245</td>\n",
              "      <td>2.020000e+13</td>\n",
              "      <td>2/12/21</td>\n",
              "      <td>Eco friendly, Colorful, Clean, Cozy monthly share</td>\n",
              "      <td>Situated in a vibrant &amp; diverse multicultural ...</td>\n",
              "      <td>NaN</td>\n",
              "      <td>https://a0.muscache.com/pictures/5167505/b33b5...</td>\n",
              "      <td>2466</td>\n",
              "      <td>https://www.airbnb.com/users/show/2466</td>\n",
              "      <td>Paddy</td>\n",
              "      <td>8/23/08</td>\n",
              "      <td>Austin, Texas, United States</td>\n",
              "      <td>I am a long time resident of Austin. I earned ...</td>\n",
              "      <td>within a few hours</td>\n",
              "      <td>100%</td>\n",
              "      <td>90%</td>\n",
              "      <td>f</td>\n",
              "      <td>https://a0.muscache.com/im/users/2466/profile_...</td>\n",
              "      <td>https://a0.muscache.com/im/users/2466/profile_...</td>\n",
              "      <td>East Downtown</td>\n",
              "      <td>3</td>\n",
              "      <td>3</td>\n",
              "      <td>['email', 'phone', 'facebook', 'reviews', 'kba']</td>\n",
              "      <td>t</td>\n",
              "      <td>t</td>\n",
              "      <td>NaN</td>\n",
              "      <td>78702</td>\n",
              "      <td>NaN</td>\n",
              "      <td>30.27577</td>\n",
              "      <td>-97.71379</td>\n",
              "      <td>Private room in house</td>\n",
              "      <td>Private room</td>\n",
              "      <td>2</td>\n",
              "      <td>NaN</td>\n",
              "      <td>1 private bath</td>\n",
              "      <td>1</td>\n",
              "      <td>2</td>\n",
              "      <td>[\"Free parking on premises\", \"Hair dryer\", \"Br...</td>\n",
              "      <td>$114.00</td>\n",
              "      <td>30</td>\n",
              "      <td>60</td>\n",
              "      <td>30</td>\n",
              "      <td>30</td>\n",
              "      <td>60</td>\n",
              "      <td>60</td>\n",
              "      <td>30.0</td>\n",
              "      <td>60.0</td>\n",
              "      <td>NaN</td>\n",
              "      <td>t</td>\n",
              "      <td>0</td>\n",
              "      <td>0</td>\n",
              "      <td>0</td>\n",
              "      <td>0</td>\n",
              "      <td>2/12/21</td>\n",
              "      <td>9</td>\n",
              "      <td>0</td>\n",
              "      <td>0</td>\n",
              "      <td>3/19/09</td>\n",
              "      <td>3/14/18</td>\n",
              "      <td>91.0</td>\n",
              "      <td>10.0</td>\n",
              "      <td>8.0</td>\n",
              "      <td>10.0</td>\n",
              "      <td>9.0</td>\n",
              "      <td>10.0</td>\n",
              "      <td>9.0</td>\n",
              "      <td>NaN</td>\n",
              "      <td>f</td>\n",
              "      <td>3</td>\n",
              "      <td>2</td>\n",
              "      <td>1</td>\n",
              "      <td>0</td>\n",
              "      <td>0.06</td>\n",
              "    </tr>\n",
              "    <tr>\n",
              "      <th>2</th>\n",
              "      <td>5456</td>\n",
              "      <td>https://www.airbnb.com/rooms/5456</td>\n",
              "      <td>2.020000e+13</td>\n",
              "      <td>2/12/21</td>\n",
              "      <td>Walk to 6th, Rainey St and Convention Ctr</td>\n",
              "      <td>Great central  location for walking to Convent...</td>\n",
              "      <td>My neighborhood is ideally located if you want...</td>\n",
              "      <td>https://a0.muscache.com/pictures/14084884/b5a3...</td>\n",
              "      <td>8028</td>\n",
              "      <td>https://www.airbnb.com/users/show/8028</td>\n",
              "      <td>Sylvia</td>\n",
              "      <td>2/16/09</td>\n",
              "      <td>Austin, Texas, United States</td>\n",
              "      <td>I am a licensed Real Estate Broker and owner o...</td>\n",
              "      <td>within a few hours</td>\n",
              "      <td>100%</td>\n",
              "      <td>91%</td>\n",
              "      <td>t</td>\n",
              "      <td>https://a0.muscache.com/im/users/8028/profile_...</td>\n",
              "      <td>https://a0.muscache.com/im/users/8028/profile_...</td>\n",
              "      <td>East Downtown</td>\n",
              "      <td>1</td>\n",
              "      <td>1</td>\n",
              "      <td>['email', 'phone', 'reviews', 'kba']</td>\n",
              "      <td>t</td>\n",
              "      <td>t</td>\n",
              "      <td>Austin, Texas, United States</td>\n",
              "      <td>78702</td>\n",
              "      <td>NaN</td>\n",
              "      <td>30.26112</td>\n",
              "      <td>-97.73448</td>\n",
              "      <td>Entire guesthouse</td>\n",
              "      <td>Entire home/apt</td>\n",
              "      <td>3</td>\n",
              "      <td>NaN</td>\n",
              "      <td>1 bath</td>\n",
              "      <td>1</td>\n",
              "      <td>2</td>\n",
              "      <td>[\"Hair dryer\", \"Dishes and silverware\", \"Air c...</td>\n",
              "      <td>$104.00</td>\n",
              "      <td>2</td>\n",
              "      <td>90</td>\n",
              "      <td>2</td>\n",
              "      <td>2</td>\n",
              "      <td>90</td>\n",
              "      <td>90</td>\n",
              "      <td>2.0</td>\n",
              "      <td>90.0</td>\n",
              "      <td>NaN</td>\n",
              "      <td>t</td>\n",
              "      <td>24</td>\n",
              "      <td>54</td>\n",
              "      <td>84</td>\n",
              "      <td>354</td>\n",
              "      <td>2/12/21</td>\n",
              "      <td>543</td>\n",
              "      <td>20</td>\n",
              "      <td>3</td>\n",
              "      <td>3/8/09</td>\n",
              "      <td>2/1/21</td>\n",
              "      <td>97.0</td>\n",
              "      <td>10.0</td>\n",
              "      <td>10.0</td>\n",
              "      <td>10.0</td>\n",
              "      <td>10.0</td>\n",
              "      <td>10.0</td>\n",
              "      <td>9.0</td>\n",
              "      <td>NaN</td>\n",
              "      <td>f</td>\n",
              "      <td>1</td>\n",
              "      <td>1</td>\n",
              "      <td>0</td>\n",
              "      <td>0</td>\n",
              "      <td>3.74</td>\n",
              "    </tr>\n",
              "    <tr>\n",
              "      <th>3</th>\n",
              "      <td>5636</td>\n",
              "      <td>https://www.airbnb.com/rooms/5636</td>\n",
              "      <td>2.020000e+13</td>\n",
              "      <td>2/12/21</td>\n",
              "      <td>Soco, Barton Springs Private Guest Cottage</td>\n",
              "      <td>MONTHLY Short Term &lt;br /&gt;Located in the awesom...</td>\n",
              "      <td>This area is one of the top areas in Austin to...</td>\n",
              "      <td>https://a0.muscache.com/pictures/17705/ef0b703...</td>\n",
              "      <td>7148</td>\n",
              "      <td>https://www.airbnb.com/users/show/7148</td>\n",
              "      <td>Peggy</td>\n",
              "      <td>1/27/09</td>\n",
              "      <td>Austin, Texas, United States</td>\n",
              "      <td>Friendly  host who enjoys meeting new people o...</td>\n",
              "      <td>within a few hours</td>\n",
              "      <td>100%</td>\n",
              "      <td>100%</td>\n",
              "      <td>f</td>\n",
              "      <td>https://a0.muscache.com/im/users/7148/profile_...</td>\n",
              "      <td>https://a0.muscache.com/im/users/7148/profile_...</td>\n",
              "      <td>Bouldin Creek</td>\n",
              "      <td>1</td>\n",
              "      <td>1</td>\n",
              "      <td>['email', 'phone', 'reviews']</td>\n",
              "      <td>t</td>\n",
              "      <td>f</td>\n",
              "      <td>Austin, Texas, United States</td>\n",
              "      <td>78704</td>\n",
              "      <td>NaN</td>\n",
              "      <td>30.24630</td>\n",
              "      <td>-97.76361</td>\n",
              "      <td>Entire guesthouse</td>\n",
              "      <td>Entire home/apt</td>\n",
              "      <td>2</td>\n",
              "      <td>NaN</td>\n",
              "      <td>1 bath</td>\n",
              "      <td>1</td>\n",
              "      <td>4</td>\n",
              "      <td>[\"Free parking on premises\", \"Stove\", \"Dishes ...</td>\n",
              "      <td>$46.00</td>\n",
              "      <td>30</td>\n",
              "      <td>90</td>\n",
              "      <td>30</td>\n",
              "      <td>30</td>\n",
              "      <td>90</td>\n",
              "      <td>90</td>\n",
              "      <td>30.0</td>\n",
              "      <td>90.0</td>\n",
              "      <td>NaN</td>\n",
              "      <td>t</td>\n",
              "      <td>7</td>\n",
              "      <td>37</td>\n",
              "      <td>67</td>\n",
              "      <td>67</td>\n",
              "      <td>2/12/21</td>\n",
              "      <td>21</td>\n",
              "      <td>1</td>\n",
              "      <td>0</td>\n",
              "      <td>4/20/09</td>\n",
              "      <td>11/6/20</td>\n",
              "      <td>95.0</td>\n",
              "      <td>9.0</td>\n",
              "      <td>10.0</td>\n",
              "      <td>10.0</td>\n",
              "      <td>10.0</td>\n",
              "      <td>10.0</td>\n",
              "      <td>9.0</td>\n",
              "      <td>NaN</td>\n",
              "      <td>f</td>\n",
              "      <td>2</td>\n",
              "      <td>2</td>\n",
              "      <td>0</td>\n",
              "      <td>0</td>\n",
              "      <td>0.15</td>\n",
              "    </tr>\n",
              "    <tr>\n",
              "      <th>4</th>\n",
              "      <td>5769</td>\n",
              "      <td>https://www.airbnb.com/rooms/5769</td>\n",
              "      <td>2.020000e+13</td>\n",
              "      <td>2/13/21</td>\n",
              "      <td>NW Austin Room</td>\n",
              "      <td>&lt;b&gt;The space&lt;/b&gt;&lt;br /&gt;Looking for a comfortabl...</td>\n",
              "      <td>Quiet neighborhood with lots of trees and good...</td>\n",
              "      <td>https://a0.muscache.com/pictures/23822033/ac94...</td>\n",
              "      <td>8186</td>\n",
              "      <td>https://www.airbnb.com/users/show/8186</td>\n",
              "      <td>Elizabeth</td>\n",
              "      <td>2/19/09</td>\n",
              "      <td>Austin, Texas, United States</td>\n",
              "      <td>We're easygoing professionals that enjoy meeti...</td>\n",
              "      <td>within an hour</td>\n",
              "      <td>100%</td>\n",
              "      <td>100%</td>\n",
              "      <td>t</td>\n",
              "      <td>https://a0.muscache.com/im/users/8186/profile_...</td>\n",
              "      <td>https://a0.muscache.com/im/users/8186/profile_...</td>\n",
              "      <td>SW Williamson Co.</td>\n",
              "      <td>1</td>\n",
              "      <td>1</td>\n",
              "      <td>['email', 'phone', 'reviews', 'jumio', 'govern...</td>\n",
              "      <td>t</td>\n",
              "      <td>t</td>\n",
              "      <td>Austin, Texas, United States</td>\n",
              "      <td>78729</td>\n",
              "      <td>NaN</td>\n",
              "      <td>30.45697</td>\n",
              "      <td>-97.78422</td>\n",
              "      <td>Private room in house</td>\n",
              "      <td>Private room</td>\n",
              "      <td>2</td>\n",
              "      <td>NaN</td>\n",
              "      <td>1 shared bath</td>\n",
              "      <td>1</td>\n",
              "      <td>1</td>\n",
              "      <td>[\"Shampoo\", \"Indoor fireplace\", \"Hair dryer\", ...</td>\n",
              "      <td>$39.00</td>\n",
              "      <td>1</td>\n",
              "      <td>14</td>\n",
              "      <td>1</td>\n",
              "      <td>1</td>\n",
              "      <td>14</td>\n",
              "      <td>14</td>\n",
              "      <td>1.0</td>\n",
              "      <td>14.0</td>\n",
              "      <td>NaN</td>\n",
              "      <td>t</td>\n",
              "      <td>21</td>\n",
              "      <td>50</td>\n",
              "      <td>79</td>\n",
              "      <td>79</td>\n",
              "      <td>2/13/21</td>\n",
              "      <td>259</td>\n",
              "      <td>2</td>\n",
              "      <td>1</td>\n",
              "      <td>4/10/10</td>\n",
              "      <td>2/10/21</td>\n",
              "      <td>98.0</td>\n",
              "      <td>10.0</td>\n",
              "      <td>10.0</td>\n",
              "      <td>10.0</td>\n",
              "      <td>10.0</td>\n",
              "      <td>10.0</td>\n",
              "      <td>10.0</td>\n",
              "      <td>NaN</td>\n",
              "      <td>f</td>\n",
              "      <td>1</td>\n",
              "      <td>0</td>\n",
              "      <td>1</td>\n",
              "      <td>0</td>\n",
              "      <td>1.96</td>\n",
              "    </tr>\n",
              "  </tbody>\n",
              "</table>\n",
              "</div>"
            ],
            "text/plain": [
              "     id  ... reviews_per_month\n",
              "0  2265  ...              0.17\n",
              "1  5245  ...              0.06\n",
              "2  5456  ...              3.74\n",
              "3  5636  ...              0.15\n",
              "4  5769  ...              1.96\n",
              "\n",
              "[5 rows x 74 columns]"
            ]
          },
          "metadata": {
            "tags": []
          },
          "execution_count": 13
        }
      ]
    },
    {
      "cell_type": "markdown",
      "metadata": {
        "id": "fZShVjuTH9ak"
      },
      "source": [
        "# Visualizations "
      ]
    },
    {
      "cell_type": "code",
      "metadata": {
        "colab": {
          "base_uri": "https://localhost:8080/"
        },
        "id": "Nr606yRvBLjs",
        "outputId": "8a3fd40b-84f4-4c4d-d3a0-df81707b2cfd"
      },
      "source": [
        "# Finding the top 10 most popular neighbourhoods that have rentals\n",
        "df.value_counts('host_neighbourhood').head(10)"
      ],
      "execution_count": null,
      "outputs": [
        {
          "output_type": "execute_result",
          "data": {
            "text/plain": [
              "host_neighbourhood\n",
              "East Downtown          584\n",
              "Cherrywood             353\n",
              "Downtown               305\n",
              "East Riverside         286\n",
              "Zilker                 226\n",
              "University of Texas    207\n",
              "Travis Heights         200\n",
              "Barton Hills           197\n",
              "South Lamar            187\n",
              "West Campus            180\n",
              "dtype: int64"
            ]
          },
          "metadata": {
            "tags": []
          },
          "execution_count": 14
        }
      ]
    },
    {
      "cell_type": "code",
      "metadata": {
        "colab": {
          "base_uri": "https://localhost:8080/",
          "height": 550
        },
        "id": "P0YBZ_9sB_QB",
        "outputId": "1938528a-1750-404d-f7f7-6dee0b61262f"
      },
      "source": [
        "# Graphing the top 10 most popular neighbourhoods\n",
        "df['host_neighbourhood'].value_counts().head(10).plot(kind='barh', figsize=(20,10))"
      ],
      "execution_count": null,
      "outputs": [
        {
          "output_type": "execute_result",
          "data": {
            "text/plain": [
              "<matplotlib.axes._subplots.AxesSubplot at 0x7f694d367c10>"
            ]
          },
          "metadata": {
            "tags": []
          },
          "execution_count": 15
        },
        {
          "output_type": "display_data",
          "data": {
            "image/png": "[encoded data removed]",
            "text/plain": [
              "<Figure size 1440x720 with 1 Axes>"
            ]
          },
          "metadata": {
            "tags": [],
            "needs_background": "light"
          }
        }
      ]
    },
    {
      "cell_type": "markdown",
      "metadata": {
        "id": "gdnupme8auC1"
      },
      "source": [
        "This graph is able to show us that East Downtown has almost doubled the Airbnbs of the next most popular neighbourhood of Cherrywood. With this information we might be able to implie that East Downtown is a great place to go out in town and that it is the more popular side of the city. "
      ]
    },
    {
      "cell_type": "code",
      "metadata": {
        "colab": {
          "base_uri": "https://localhost:8080/"
        },
        "id": "H_o5DK2sCwbm",
        "outputId": "97093be1-c165-4c47-ed9a-b2e7a2180910"
      },
      "source": [
        "# Showing the top 10 most popular property types available to rent \n",
        "df.value_counts('property_type').head(10)\n"
      ],
      "execution_count": null,
      "outputs": [
        {
          "output_type": "execute_result",
          "data": {
            "text/plain": [
              "property_type\n",
              "Entire house                 3038\n",
              "Entire apartment             1673\n",
              "Private room in house        1307\n",
              "Entire condominium            807\n",
              "Entire serviced apartment     414\n",
              "Private room in apartment     386\n",
              "Entire guesthouse             348\n",
              "Entire townhouse              258\n",
              "Entire bungalow               203\n",
              "Entire guest suite            164\n",
              "dtype: int64"
            ]
          },
          "metadata": {
            "tags": []
          },
          "execution_count": 16
        }
      ]
    },
    {
      "cell_type": "code",
      "metadata": {
        "colab": {
          "base_uri": "https://localhost:8080/",
          "height": 535
        },
        "id": "CQoGRPPtFkuI",
        "outputId": "e8ea3e93-439b-4a96-ccb3-fec812fbf49f"
      },
      "source": [
        "# Graphing the top 10 most popular property types \n",
        "df['property_type'].value_counts().head(10).plot(kind='barh', figsize=(20,10))"
      ],
      "execution_count": null,
      "outputs": [
        {
          "output_type": "execute_result",
          "data": {
            "text/plain": [
              "<matplotlib.axes._subplots.AxesSubplot at 0x7f694d2f1f10>"
            ]
          },
          "metadata": {
            "tags": []
          },
          "execution_count": 17
        },
        {
          "output_type": "display_data",
          "data": {
            "image/png": "[encoded data removed]",
            "text/plain": [
              "<Figure size 1440x720 with 1 Axes>"
            ]
          },
          "metadata": {
            "tags": [],
            "needs_background": "light"
          }
        }
      ]
    },
    {
      "cell_type": "markdown",
      "metadata": {
        "id": "8PFntKZZbqjK"
      },
      "source": [
        "This is an interesting graphic, usually when you think of Airbnbs in a city you would assume that you would be staying in an apartment. However, there are over 1,000 more houses available then apartments. This shows that Austin has a lot of residential areas compared to apartment buildings. "
      ]
    },
    {
      "cell_type": "code",
      "metadata": {
        "colab": {
          "base_uri": "https://localhost:8080/"
        },
        "id": "lF4mXVQEFsPv",
        "outputId": "5c9120f4-fd70-44f5-9c5c-272e58f613f8"
      },
      "source": [
        "# Finding the most common amount of bathrooms \n",
        "df.value_counts('bathrooms_text').head(10)"
      ],
      "execution_count": null,
      "outputs": [
        {
          "output_type": "execute_result",
          "data": {
            "text/plain": [
              "bathrooms_text\n",
              "1 bath              3854\n",
              "2 baths             2068\n",
              "1 shared bath        745\n",
              "2.5 baths            669\n",
              "1 private bath       616\n",
              "1.5 baths            463\n",
              "3 baths              369\n",
              "3.5 baths            172\n",
              "1.5 shared baths     162\n",
              "4 baths              126\n",
              "dtype: int64"
            ]
          },
          "metadata": {
            "tags": []
          },
          "execution_count": 18
        }
      ]
    },
    {
      "cell_type": "code",
      "metadata": {
        "colab": {
          "base_uri": "https://localhost:8080/",
          "height": 554
        },
        "id": "70eI6EDqGMbH",
        "outputId": "24f016f0-b7b0-4832-9e84-eddfadbc0781"
      },
      "source": [
        "# Graphing the most common number of bathrooms \n",
        "df['bathrooms_text'].value_counts().head(10).plot(kind='barh', figsize=(20,10))"
      ],
      "execution_count": null,
      "outputs": [
        {
          "output_type": "execute_result",
          "data": {
            "text/plain": [
              "<matplotlib.axes._subplots.AxesSubplot at 0x7f694d2dc550>"
            ]
          },
          "metadata": {
            "tags": []
          },
          "execution_count": 19
        },
        {
          "output_type": "display_data",
          "data": {
            "image/png": "[encoded data removed]",
            "text/plain": [
              "<Figure size 1440x720 with 1 Axes>"
            ]
          },
          "metadata": {
            "tags": [],
            "needs_background": "light"
          }
        }
      ]
    },
    {
      "cell_type": "markdown",
      "metadata": {
        "id": "VY5aXW1ycMaI"
      },
      "source": [
        "This graph is interesting because usually when you think of being able to rent an entire house you think that there would be more then one bathroom. This graph shows that there are far more Airbnbs with only one bathroom then compared to 2."
      ]
    },
    {
      "cell_type": "code",
      "metadata": {
        "colab": {
          "base_uri": "https://localhost:8080/"
        },
        "id": "RHySb6MJGcXK",
        "outputId": "6bbdea49-27d7-40d4-cfc0-4008e31fb6a2"
      },
      "source": [
        "# Finding the most typical amount of bedrooms for a rental \n",
        "df.value_counts('bedrooms').head(10)\n"
      ],
      "execution_count": null,
      "outputs": [
        {
          "output_type": "execute_result",
          "data": {
            "text/plain": [
              "bedrooms\n",
              "1     4706\n",
              "2     2423\n",
              "3     1405\n",
              "4      622\n",
              "5      228\n",
              "6       73\n",
              "7       27\n",
              "8       17\n",
              "9        7\n",
              "10       5\n",
              "dtype: int64"
            ]
          },
          "metadata": {
            "tags": []
          },
          "execution_count": 20
        }
      ]
    },
    {
      "cell_type": "code",
      "metadata": {
        "colab": {
          "base_uri": "https://localhost:8080/",
          "height": 586
        },
        "id": "1t_6rX-wGxIc",
        "outputId": "3509a0a9-77eb-4e74-dcfd-db8e77507ad9"
      },
      "source": [
        "# Graphing the most common number of bedrooms\n",
        "df['bedrooms'].value_counts().head(10).plot(kind='barh', figsize=(20,10))"
      ],
      "execution_count": null,
      "outputs": [
        {
          "output_type": "execute_result",
          "data": {
            "text/plain": [
              "<matplotlib.axes._subplots.AxesSubplot at 0x7f694d19ab90>"
            ]
          },
          "metadata": {
            "tags": []
          },
          "execution_count": 21
        },
        {
          "output_type": "display_data",
          "data": {
            "image/png": "[encoded data removed]",
            "text/plain": [
              "<Figure size 1440x720 with 1 Axes>"
            ]
          },
          "metadata": {
            "tags": [],
            "needs_background": "light"
          }
        }
      ]
    },
    {
      "cell_type": "markdown",
      "metadata": {
        "id": "BkMnPYs2cnzp"
      },
      "source": [
        "Again like the previous graph this shows that 1 bedroom Airbnbs are far more popular. Some of the houses must be one bedroom but it also makes sense because most of the other property type Airbnbs are most likely a one bedroom layout. "
      ]
    },
    {
      "cell_type": "code",
      "metadata": {
        "colab": {
          "base_uri": "https://localhost:8080/"
        },
        "id": "su3pUufrqKZC",
        "outputId": "6d0b108e-d8ef-4e21-8f37-d2da45a9ccb6"
      },
      "source": [
        "# Finding the most common minimum nights of a stay \n",
        "df.value_counts('minimum_nights').head(10)"
      ],
      "execution_count": null,
      "outputs": [
        {
          "output_type": "execute_result",
          "data": {
            "text/plain": [
              "minimum_nights\n",
              "2     3368\n",
              "1     2898\n",
              "3     1103\n",
              "30     936\n",
              "4      226\n",
              "5      190\n",
              "7      152\n",
              "90     101\n",
              "31      93\n",
              "29      78\n",
              "dtype: int64"
            ]
          },
          "metadata": {
            "tags": []
          },
          "execution_count": 22
        }
      ]
    },
    {
      "cell_type": "code",
      "metadata": {
        "colab": {
          "base_uri": "https://localhost:8080/",
          "height": 586
        },
        "id": "RWBEpEeTqd95",
        "outputId": "ef7d796f-01e5-42d0-ecc8-4cb31539f172"
      },
      "source": [
        "# Graphing the most common minimum nights of a stay \n",
        "df['minimum_nights'].value_counts().head(10).plot(kind='barh', figsize=(20,10))"
      ],
      "execution_count": null,
      "outputs": [
        {
          "output_type": "execute_result",
          "data": {
            "text/plain": [
              "<matplotlib.axes._subplots.AxesSubplot at 0x7f694d188850>"
            ]
          },
          "metadata": {
            "tags": []
          },
          "execution_count": 23
        },
        {
          "output_type": "display_data",
          "data": {
            "image/png": "[encoded data removed]",
            "text/plain": [
              "<Figure size 1440x720 with 1 Axes>"
            ]
          },
          "metadata": {
            "tags": [],
            "needs_background": "light"
          }
        }
      ]
    },
    {
      "cell_type": "markdown",
      "metadata": {
        "id": "-BesKpjnqijd"
      },
      "source": [
        "Minimum night stay isn't too surprising of an information. It seems that most host are willing to offer their houses for under 10 tens. However, there is a surprising number of houses that have a minimum of 30 and 90 nights which means that those host are looking for longer term renters. "
      ]
    },
    {
      "cell_type": "code",
      "metadata": {
        "colab": {
          "base_uri": "https://localhost:8080/"
        },
        "id": "Hgf--ZVuqjAa",
        "outputId": "35d2b05f-03a3-4055-865f-37950debaf5e"
      },
      "source": [
        "# Finding the most common maximum nights of a stay \n",
        "df.value_counts('maximum_nights').head(10)"
      ],
      "execution_count": null,
      "outputs": [
        {
          "output_type": "execute_result",
          "data": {
            "text/plain": [
              "maximum_nights\n",
              "1125    4652\n",
              "365      860\n",
              "30       466\n",
              "7        412\n",
              "14       353\n",
              "10       231\n",
              "90       219\n",
              "60       190\n",
              "5        173\n",
              "180      170\n",
              "dtype: int64"
            ]
          },
          "metadata": {
            "tags": []
          },
          "execution_count": 24
        }
      ]
    },
    {
      "cell_type": "code",
      "metadata": {
        "colab": {
          "base_uri": "https://localhost:8080/",
          "height": 573
        },
        "id": "aSF_LY-kqoa8",
        "outputId": "899beece-0209-4e37-b627-14597f2fc5a0"
      },
      "source": [
        "# Graphing the most common maximum nights of a stay \n",
        "df.value_counts('maximum_nights').head(10).plot(kind='barh', figsize=(20,10))"
      ],
      "execution_count": null,
      "outputs": [
        {
          "output_type": "execute_result",
          "data": {
            "text/plain": [
              "<matplotlib.axes._subplots.AxesSubplot at 0x7f694d0bd890>"
            ]
          },
          "metadata": {
            "tags": []
          },
          "execution_count": 25
        },
        {
          "output_type": "display_data",
          "data": {
            "image/png": "[encoded data removed]",
            "text/plain": [
              "<Figure size 1440x720 with 1 Axes>"
            ]
          },
          "metadata": {
            "tags": [],
            "needs_background": "light"
          }
        }
      ]
    },
    {
      "cell_type": "markdown",
      "metadata": {
        "id": "YTtitmdHr1e5"
      },
      "source": [
        "Having a maximum night stay of 1125 is much higher then I thought to see. I think it shows that these host are willing to rent out to the same person as long as someones in the house or property type. "
      ]
    },
    {
      "cell_type": "code",
      "metadata": {
        "colab": {
          "base_uri": "https://localhost:8080/"
        },
        "id": "WCK4W3jVG4_p",
        "outputId": "6a34d778-667f-4032-a1b1-366e7645440d"
      },
      "source": [
        "# Formatting the 'host_since' column to a year format to be able to retrieve the year more easily \n",
        "years = pd.to_datetime(df['host_since'],format='%m/%d/%y')\n",
        "years"
      ],
      "execution_count": null,
      "outputs": [
        {
          "output_type": "execute_result",
          "data": {
            "text/plain": [
              "0      2008-08-23\n",
              "1      2008-08-23\n",
              "2      2009-02-16\n",
              "3      2009-01-27\n",
              "4      2009-02-19\n",
              "          ...    \n",
              "9513   2020-09-23\n",
              "9514   2020-09-23\n",
              "9515   2020-07-28\n",
              "9516   2020-07-28\n",
              "9517   2021-02-09\n",
              "Name: host_since, Length: 9518, dtype: datetime64[ns]"
            ]
          },
          "metadata": {
            "tags": []
          },
          "execution_count": 26
        }
      ]
    },
    {
      "cell_type": "code",
      "metadata": {
        "colab": {
          "base_uri": "https://localhost:8080/",
          "height": 586
        },
        "id": "Vloqdo8bmeMk",
        "outputId": "9c321ce1-7e39-4ccc-93d6-737a2a807364"
      },
      "source": [
        "# Taking the year from the 'host_since' and finding the most popular year that host joined Airbnb\n",
        "# Each year is represented as the last two digits of their year (2015 -> 15)\n",
        "df['host_since'].str[-2:].value_counts().plot(kind='barh', figsize=(20,10))"
      ],
      "execution_count": null,
      "outputs": [
        {
          "output_type": "execute_result",
          "data": {
            "text/plain": [
              "<matplotlib.axes._subplots.AxesSubplot at 0x7f694cfa7310>"
            ]
          },
          "metadata": {
            "tags": []
          },
          "execution_count": 27
        },
        {
          "output_type": "display_data",
          "data": {
            "image/png": "[encoded data removed]",
            "text/plain": [
              "<Figure size 1440x720 with 1 Axes>"
            ]
          },
          "metadata": {
            "tags": [],
            "needs_background": "light"
          }
        }
      ]
    },
    {
      "cell_type": "markdown",
      "metadata": {
        "id": "rSn59i67Ssiu"
      },
      "source": [
        "Based on this information it seems like there was a huge increase in becoming a host between 2014-2016. A reason for this might be that in 2014 Airbnb opened up a second headquaters in Portland, Oregon. "
      ]
    },
    {
      "cell_type": "markdown",
      "metadata": {
        "id": "Ho5orYayIB5b"
      },
      "source": [
        "# KNeighbors Regression Model"
      ]
    },
    {
      "cell_type": "code",
      "metadata": {
        "id": "0UhjEkN8nuxr",
        "colab": {
          "base_uri": "https://localhost:8080/"
        },
        "outputId": "07e50636-3515-4a4f-c883-fba6dc83a45c"
      },
      "source": [
        "# Creating the X data for my KNeighbors regression model \n",
        "# Believe that 'accomodates', 'bedrooms', 'beds', 'number_of_reviews' are important values when predicting price because\n",
        "# the ammount it accomodates, the number of bedrooms and beds usually the higher these are the higher the price and the \n",
        "# the number of reviews can impact because the more reviews it has the more likely it is that a popular house\n",
        "\n",
        "X = df[['accommodates', 'bedrooms', 'beds', 'number_of_reviews']].values\n",
        "print('data:', X.shape)\n",
        "print(X)"
      ],
      "execution_count": null,
      "outputs": [
        {
          "output_type": "stream",
          "text": [
            "data: (9518, 4)\n",
            "[[  4   2   2  24]\n",
            " [  2   1   2   9]\n",
            " [  3   1   2 543]\n",
            " ...\n",
            " [  3   1   1   0]\n",
            " [  3   1   1   0]\n",
            " [  6   2   2   0]]\n"
          ],
          "name": "stdout"
        }
      ]
    },
    {
      "cell_type": "code",
      "metadata": {
        "colab": {
          "base_uri": "https://localhost:8080/"
        },
        "id": "mC_myzIPWZFN",
        "outputId": "f7e8372a-21e3-43e2-8874-545f5e91b851"
      },
      "source": [
        "# Setting y to price as I am trying to be able to predict price\n",
        "# Before setting it to price I had to remove the dollar sign and convert the number to a float\n",
        "\n",
        "df['price'] = df['price'].replace('[\\$,]', '', regex=True).astype(float)\n",
        "\n",
        "y = df['price']\n",
        "print('\\nlabels:', y.shape)\n",
        "y"
      ],
      "execution_count": null,
      "outputs": [
        {
          "output_type": "stream",
          "text": [
            "\n",
            "labels: (9518,)\n"
          ],
          "name": "stdout"
        },
        {
          "output_type": "execute_result",
          "data": {
            "text/plain": [
              "0       200.0\n",
              "1       114.0\n",
              "2       104.0\n",
              "3        46.0\n",
              "4        39.0\n",
              "        ...  \n",
              "9513    185.0\n",
              "9514    153.0\n",
              "9515     82.0\n",
              "9516    153.0\n",
              "9517    175.0\n",
              "Name: price, Length: 9518, dtype: float64"
            ]
          },
          "metadata": {
            "tags": []
          },
          "execution_count": 29
        }
      ]
    },
    {
      "cell_type": "code",
      "metadata": {
        "colab": {
          "base_uri": "https://localhost:8080/"
        },
        "id": "-Kz0YY9GWo6M",
        "outputId": "7b9af892-429c-424e-b680-485f5b9d5484"
      },
      "source": [
        "# Splitting the test and training data\n",
        "# 70% train and 30% test \n",
        "\n",
        "from sklearn.model_selection import train_test_split\n",
        "\n",
        "Xtrain, Xtest, ytrain, ytest = train_test_split(X, y, test_size=0.7, random_state=0)\n",
        "print('Xtrain.shape:', Xtrain.shape)\n",
        "print('ytrain.shape:', ytrain.shape)\n",
        "print('Xtest.shape:', Xtest.shape)\n",
        "print('ytest.shape:', ytest.shape)"
      ],
      "execution_count": null,
      "outputs": [
        {
          "output_type": "stream",
          "text": [
            "Xtrain.shape: (2855, 4)\n",
            "ytrain.shape: (2855,)\n",
            "Xtest.shape: (6663, 4)\n",
            "ytest.shape: (6663,)\n"
          ],
          "name": "stdout"
        }
      ]
    },
    {
      "cell_type": "code",
      "metadata": {
        "colab": {
          "base_uri": "https://localhost:8080/"
        },
        "id": "xKiRAdu0XGPo",
        "outputId": "3c2ee45b-8088-4ced-bcda-a11a4cd17f5e"
      },
      "source": [
        "# Running the Kneighbors regression model with n_neighbors = 22 to get the lowest possible error\n",
        "from sklearn.neighbors import KNeighborsRegressor\n",
        "model = KNeighborsRegressor(n_neighbors=22)\n",
        "model.fit(Xtrain, ytrain)"
      ],
      "execution_count": null,
      "outputs": [
        {
          "output_type": "execute_result",
          "data": {
            "text/plain": [
              "KNeighborsRegressor(algorithm='auto', leaf_size=30, metric='minkowski',\n",
              "                    metric_params=None, n_jobs=None, n_neighbors=22, p=2,\n",
              "                    weights='uniform')"
            ]
          },
          "metadata": {
            "tags": []
          },
          "execution_count": 31
        }
      ]
    },
    {
      "cell_type": "code",
      "metadata": {
        "colab": {
          "base_uri": "https://localhost:8080/"
        },
        "id": "jQWVk1mvXqPy",
        "outputId": "957a615f-425c-45ca-871f-6a2dff0ae911"
      },
      "source": [
        "# Creating the y prediction \n",
        "\n",
        "ypred = model.predict(Xtest)\n",
        "ypred"
      ],
      "execution_count": null,
      "outputs": [
        {
          "output_type": "execute_result",
          "data": {
            "text/plain": [
              "array([200.5       , 239.86363636, 120.63636364, ..., 145.04545455,\n",
              "       106.5       , 199.95454545])"
            ]
          },
          "metadata": {
            "tags": []
          },
          "execution_count": 32
        }
      ]
    },
    {
      "cell_type": "code",
      "metadata": {
        "colab": {
          "base_uri": "https://localhost:8080/"
        },
        "id": "icLtZtiXZr7x",
        "outputId": "bfa66150-4962-4cce-a716-6a83bd26da5f"
      },
      "source": [
        "ytest"
      ],
      "execution_count": null,
      "outputs": [
        {
          "output_type": "execute_result",
          "data": {
            "text/plain": [
              "7324    130.0\n",
              "1427    250.0\n",
              "2703    120.0\n",
              "7878    205.0\n",
              "2579    175.0\n",
              "        ...  \n",
              "2383    149.0\n",
              "7904     78.0\n",
              "1886     33.0\n",
              "7896     89.0\n",
              "1446    200.0\n",
              "Name: price, Length: 6663, dtype: float64"
            ]
          },
          "metadata": {
            "tags": []
          },
          "execution_count": 33
        }
      ]
    },
    {
      "cell_type": "code",
      "metadata": {
        "colab": {
          "base_uri": "https://localhost:8080/"
        },
        "id": "YyJUXKyMZ7QQ",
        "outputId": "8af3d31b-0904-455c-9731-fccc8cacbc5f"
      },
      "source": [
        "# Getting the mean square error of the model to show how far off it was from the actual price\n",
        "\n",
        "from sklearn.metrics import mean_squared_error\n",
        "mean_squared_error(ytest, ypred)"
      ],
      "execution_count": null,
      "outputs": [
        {
          "output_type": "execute_result",
          "data": {
            "text/plain": [
              "201216.2419302724"
            ]
          },
          "metadata": {
            "tags": []
          },
          "execution_count": 34
        }
      ]
    },
    {
      "cell_type": "markdown",
      "metadata": {
        "id": "Yiaxujy8d_RT"
      },
      "source": [
        "I ran a Kneighborregression model to try and predict the price of the Airbnb. The model read in how many people the Airbnb accomodates, the number of bedrooms, the number of bathrooms, and the number of reviews that the Airbnb had. I thought these were important factors when trying to determine the price of the Airbnb. I predicted error instead of accuracy to show how far away the price would be. This model predicts the price $201,216.24 which isn't very good, this is most likely because there are a wind range of prices in the dataset. A way I can try to improve this is reading in more data from the dataset. \n",
        "\n"
      ]
    },
    {
      "cell_type": "markdown",
      "metadata": {
        "id": "hwtcMDbkKSFO"
      },
      "source": [
        "# Deep Learning Model"
      ]
    },
    {
      "cell_type": "code",
      "metadata": {
        "colab": {
          "base_uri": "https://localhost:8080/",
          "height": 204
        },
        "id": "TTrnY4Akb9pZ",
        "outputId": "59055042-b1af-4272-f6cb-69d03f5d7199"
      },
      "source": [
        "# Took the description and the host_is_superhost and created a new dataframe with just those two columns\n",
        "\n",
        "nn_df = df[['description', 'host_is_superhost']].copy()\n",
        "nn_df.head()"
      ],
      "execution_count": null,
      "outputs": [
        {
          "output_type": "execute_result",
          "data": {
            "text/html": [
              "<div>\n",
              "<style scoped>\n",
              "    .dataframe tbody tr th:only-of-type {\n",
              "        vertical-align: middle;\n",
              "    }\n",
              "\n",
              "    .dataframe tbody tr th {\n",
              "        vertical-align: top;\n",
              "    }\n",
              "\n",
              "    .dataframe thead th {\n",
              "        text-align: right;\n",
              "    }\n",
              "</style>\n",
              "<table border=\"1\" class=\"dataframe\">\n",
              "  <thead>\n",
              "    <tr style=\"text-align: right;\">\n",
              "      <th></th>\n",
              "      <th>description</th>\n",
              "      <th>host_is_superhost</th>\n",
              "    </tr>\n",
              "  </thead>\n",
              "  <tbody>\n",
              "    <tr>\n",
              "      <th>0</th>\n",
              "      <td>Zen East is situated in a vibrant &amp; diverse mu...</td>\n",
              "      <td>f</td>\n",
              "    </tr>\n",
              "    <tr>\n",
              "      <th>1</th>\n",
              "      <td>Situated in a vibrant &amp; diverse multicultural ...</td>\n",
              "      <td>f</td>\n",
              "    </tr>\n",
              "    <tr>\n",
              "      <th>2</th>\n",
              "      <td>Great central  location for walking to Convent...</td>\n",
              "      <td>t</td>\n",
              "    </tr>\n",
              "    <tr>\n",
              "      <th>3</th>\n",
              "      <td>MONTHLY Short Term &lt;br /&gt;Located in the awesom...</td>\n",
              "      <td>f</td>\n",
              "    </tr>\n",
              "    <tr>\n",
              "      <th>4</th>\n",
              "      <td>&lt;b&gt;The space&lt;/b&gt;&lt;br /&gt;Looking for a comfortabl...</td>\n",
              "      <td>t</td>\n",
              "    </tr>\n",
              "  </tbody>\n",
              "</table>\n",
              "</div>"
            ],
            "text/plain": [
              "                                         description host_is_superhost\n",
              "0  Zen East is situated in a vibrant & diverse mu...                 f\n",
              "1  Situated in a vibrant & diverse multicultural ...                 f\n",
              "2  Great central  location for walking to Convent...                 t\n",
              "3  MONTHLY Short Term <br />Located in the awesom...                 f\n",
              "4  <b>The space</b><br />Looking for a comfortabl...                 t"
            ]
          },
          "metadata": {
            "tags": []
          },
          "execution_count": 35
        }
      ]
    },
    {
      "cell_type": "code",
      "metadata": {
        "id": "TQeu4u2x31Mu"
      },
      "source": [
        "# Importing all of the packages I need to be able to run the neural network for the text\n",
        "\n",
        "import pandas as pd\n",
        "from keras.preprocessing.text import Tokenizer\n",
        "from keras.preprocessing import sequence\n",
        "from sklearn.model_selection import train_test_split\n",
        "from keras.models import Sequential\n",
        "from keras.layers import Dense, Embedding, GlobalMaxPooling1D, Flatten, Conv1D, Dropout, Activation\n",
        "from sklearn.preprocessing import LabelEncoder\n",
        "import warnings\n",
        "warnings.simplefilter('ignore')\n",
        "\n",
        "def Evaluate(Y_Test, Predictions) :\n",
        "    from sklearn.metrics import accuracy_score, precision_score, recall_score, f1_score\n",
        "    Accuracy = accuracy_score(Y_Test, Predictions)\n",
        "    Precision = precision_score(Y_Test, Predictions)\n",
        "    Recall = recall_score(Y_Test, Predictions)\n",
        "    F1 = f1_score(Y_Test, Predictions)\n",
        "    Metric = {'Accuracy Score' : round(Accuracy,2),\n",
        "              'Precision Score' : round(Precision,2),\n",
        "              'Recall Score' : round(Recall,2),\n",
        "              'F1 Score' : round(F1,2)}\n",
        "    print(f'Accuracy Score : {Accuracy * 100:.2f}%')\n",
        "    print(f'Precision Score : {Precision * 100:.2f}%')\n",
        "    print(f'Recall Score : {Recall * 100:.2f}%')\n",
        "    print(f'F1 Score : {F1 * 100:.2f}%')\n",
        "    return Metric"
      ],
      "execution_count": null,
      "outputs": []
    },
    {
      "cell_type": "code",
      "metadata": {
        "id": "SDgU0aW2ipdA"
      },
      "source": [
        "BATCH_SIZE = 64\n",
        "EPOCHS = 5\n",
        "VOCAB_SIZE = 20000\n",
        "MAX_LEN = 100\n",
        "EMBEDDING_DIM = 100\n",
        "NUM_FILTERS = 250\n",
        "KERNEL_SIZE = 3\n",
        "HIDDEN_DIMS = 250"
      ],
      "execution_count": null,
      "outputs": []
    },
    {
      "cell_type": "code",
      "metadata": {
        "colab": {
          "base_uri": "https://localhost:8080/",
          "height": 204
        },
        "id": "pjJ2lQ4HglMF",
        "outputId": "8eca9f44-9377-440e-bcbc-d31e5a6bd9ba"
      },
      "source": [
        "# Converting 'host_is_superhost' to binary where 0 is false and 1 is true\n",
        "le=LabelEncoder()\n",
        "nn_df[\"host_is_superhost\"] = le.fit_transform(nn_df[\"host_is_superhost\"])   \n",
        "nn_df.head()"
      ],
      "execution_count": null,
      "outputs": [
        {
          "output_type": "execute_result",
          "data": {
            "text/html": [
              "<div>\n",
              "<style scoped>\n",
              "    .dataframe tbody tr th:only-of-type {\n",
              "        vertical-align: middle;\n",
              "    }\n",
              "\n",
              "    .dataframe tbody tr th {\n",
              "        vertical-align: top;\n",
              "    }\n",
              "\n",
              "    .dataframe thead th {\n",
              "        text-align: right;\n",
              "    }\n",
              "</style>\n",
              "<table border=\"1\" class=\"dataframe\">\n",
              "  <thead>\n",
              "    <tr style=\"text-align: right;\">\n",
              "      <th></th>\n",
              "      <th>description</th>\n",
              "      <th>host_is_superhost</th>\n",
              "    </tr>\n",
              "  </thead>\n",
              "  <tbody>\n",
              "    <tr>\n",
              "      <th>0</th>\n",
              "      <td>Zen East is situated in a vibrant &amp; diverse mu...</td>\n",
              "      <td>0</td>\n",
              "    </tr>\n",
              "    <tr>\n",
              "      <th>1</th>\n",
              "      <td>Situated in a vibrant &amp; diverse multicultural ...</td>\n",
              "      <td>0</td>\n",
              "    </tr>\n",
              "    <tr>\n",
              "      <th>2</th>\n",
              "      <td>Great central  location for walking to Convent...</td>\n",
              "      <td>1</td>\n",
              "    </tr>\n",
              "    <tr>\n",
              "      <th>3</th>\n",
              "      <td>MONTHLY Short Term &lt;br /&gt;Located in the awesom...</td>\n",
              "      <td>0</td>\n",
              "    </tr>\n",
              "    <tr>\n",
              "      <th>4</th>\n",
              "      <td>&lt;b&gt;The space&lt;/b&gt;&lt;br /&gt;Looking for a comfortabl...</td>\n",
              "      <td>1</td>\n",
              "    </tr>\n",
              "  </tbody>\n",
              "</table>\n",
              "</div>"
            ],
            "text/plain": [
              "                                         description  host_is_superhost\n",
              "0  Zen East is situated in a vibrant & diverse mu...                  0\n",
              "1  Situated in a vibrant & diverse multicultural ...                  0\n",
              "2  Great central  location for walking to Convent...                  1\n",
              "3  MONTHLY Short Term <br />Located in the awesom...                  0\n",
              "4  <b>The space</b><br />Looking for a comfortabl...                  1"
            ]
          },
          "metadata": {
            "tags": []
          },
          "execution_count": 38
        }
      ]
    },
    {
      "cell_type": "code",
      "metadata": {
        "id": "4bG6gAnXfT03"
      },
      "source": [
        "# Cleaning and preprocessing the data \n",
        "# Tokenizing the text of 'description'\n",
        "\n",
        "text_input = nn_df['description']   \n",
        "labels = nn_df['host_is_superhost']  \n",
        "\n",
        "# text_input.SentimentText=text_input.SentimentText.astype(str)\n",
        "text_input = text_input.astype(str)\n",
        "\n",
        "imdb_tokenizer = Tokenizer(num_words=VOCAB_SIZE)\n",
        "imdb_tokenizer.fit_on_texts(text_input.values)    \n",
        "X_seq = imdb_tokenizer.texts_to_sequences(text_input.values)\n",
        "X = sequence.pad_sequences(X_seq, maxlen=MAX_LEN, padding=\"post\", value=0)\n",
        "y = labels.values"
      ],
      "execution_count": null,
      "outputs": []
    },
    {
      "cell_type": "code",
      "metadata": {
        "colab": {
          "base_uri": "https://localhost:8080/"
        },
        "id": "kwBKFvrDHvMc",
        "outputId": "94d57516-ca03-4873-feb7-56df2cc738f8"
      },
      "source": [
        "print(text_input.values[0], '\\n')\n",
        "print(X[0])"
      ],
      "execution_count": null,
      "outputs": [
        {
          "output_type": "stream",
          "text": [
            "Zen East is situated in a vibrant & diverse multicultural neighborhood, within walking distance of many great restaurants, cafes, performance/art spaces, UT campus, downtown & just a few miles from a beautiful trail ~ Ladybird Lake.<br /><br />NOTE: As of 1/20/18, new home construction with intermittent noise is happening at lot next door typically b/w hours of 8 - 5:30 pm. Exterior is 90% complete.<br /><br /><b>The space</b><br />This colorful and clean 1923 house was completely remodeled in 2004. The house is a 2BR/ 2BA (1350 sq') with a pillow top queen bed in the large master with full private bath and a double futon bed (floor level) in an office which converts to a small guest room adjacent to a full bathroom in the hallway. The following amenities are included: CACH, WIFI, HDTV, washer/dryer, fully equipped kitchen, street parking, fenced back yard with semi privacy fence/deck and front yard with covered porch, pecan, crepe myrtle and other trees provide shade and floral displa \n",
            "\n",
            "[    6     1    16  1170     3   111  7007    29   392   563   318     7\n",
            "  6212     2    29     8     4  1034  1194  7008  8211     9     4  1600\n",
            "   358    57    38     7     2    66   141     9    45    37    87     3\n",
            "     4   558   584    38   125   721     7    41   401   205  1935     5\n",
            "     4   175    33    20   875     5     4    45    47     7     2  1326\n",
            "     2   381   144    18   419  6213   137   806   129   122    94   193\n",
            "    25    64    76   449   117   148     9  2760   361  1622   176     3\n",
            "   145   148     9   336   266  1345  5635  6214     3    62   390   344\n",
            "  1394     3  5636 10464]\n"
          ],
          "name": "stdout"
        }
      ]
    },
    {
      "cell_type": "code",
      "metadata": {
        "colab": {
          "base_uri": "https://localhost:8080/"
        },
        "id": "tDQTqoCSHy2g",
        "outputId": "a6a7dba6-424a-47d8-a49f-771a77841886"
      },
      "source": [
        "# Splitting the data into test and train, again using 70% for the train data and 30% for the test data\n",
        "\n",
        "X_train, X_test, y_train, y_test = train_test_split(X, y, test_size = 0.3)\n",
        "print (X_train.shape, X_test.shape)"
      ],
      "execution_count": null,
      "outputs": [
        {
          "output_type": "stream",
          "text": [
            "(6662, 100) (2856, 100)\n"
          ],
          "name": "stdout"
        }
      ]
    },
    {
      "cell_type": "code",
      "metadata": {
        "colab": {
          "base_uri": "https://localhost:8080/"
        },
        "id": "Wy1Qmz1CH2MY",
        "outputId": "a05548fa-5356-4e9e-b4f6-e841b1c62101"
      },
      "source": [
        "# Defining and training the deep learning model\n",
        "\n",
        "model = Sequential()\n",
        "model.add(Embedding(VOCAB_SIZE, EMBEDDING_DIM, input_length=MAX_LEN))\n",
        "model.add(Dropout(0.2))\n",
        "model.add(Conv1D(NUM_FILTERS,\n",
        "                 KERNEL_SIZE,\n",
        "                 padding='valid',\n",
        "                 activation='relu',\n",
        "                 strides=1))\n",
        "model.add(GlobalMaxPooling1D())\n",
        "model.add(Dense(HIDDEN_DIMS))\n",
        "model.add(Dropout(0.2))\n",
        "model.add(Activation('relu'))\n",
        "model.add(Dense(1))\n",
        "model.add(Activation('sigmoid'))\n",
        "model.compile(loss='binary_crossentropy', optimizer='adam', metrics=['accuracy'])\n",
        "model.summary()"
      ],
      "execution_count": null,
      "outputs": [
        {
          "output_type": "stream",
          "text": [
            "Model: \"sequential\"\n",
            "_________________________________________________________________\n",
            "Layer (type)                 Output Shape              Param #   \n",
            "=================================================================\n",
            "embedding (Embedding)        (None, 100, 100)          2000000   \n",
            "_________________________________________________________________\n",
            "dropout (Dropout)            (None, 100, 100)          0         \n",
            "_________________________________________________________________\n",
            "conv1d (Conv1D)              (None, 98, 250)           75250     \n",
            "_________________________________________________________________\n",
            "global_max_pooling1d (Global (None, 250)               0         \n",
            "_________________________________________________________________\n",
            "dense (Dense)                (None, 250)               62750     \n",
            "_________________________________________________________________\n",
            "dropout_1 (Dropout)          (None, 250)               0         \n",
            "_________________________________________________________________\n",
            "activation (Activation)      (None, 250)               0         \n",
            "_________________________________________________________________\n",
            "dense_1 (Dense)              (None, 1)                 251       \n",
            "_________________________________________________________________\n",
            "activation_1 (Activation)    (None, 1)                 0         \n",
            "=================================================================\n",
            "Total params: 2,138,251\n",
            "Trainable params: 2,138,251\n",
            "Non-trainable params: 0\n",
            "_________________________________________________________________\n"
          ],
          "name": "stdout"
        }
      ]
    },
    {
      "cell_type": "code",
      "metadata": {
        "colab": {
          "base_uri": "https://localhost:8080/"
        },
        "id": "sf9uq1tlH4u2",
        "outputId": "1eddc601-381c-4711-ec62-1990e50bfaeb"
      },
      "source": [
        "model.fit(X_train, y_train,\n",
        "          batch_size=BATCH_SIZE,\n",
        "          epochs=EPOCHS,\n",
        "          validation_split=0.1)"
      ],
      "execution_count": null,
      "outputs": [
        {
          "output_type": "stream",
          "text": [
            "Epoch 1/5\n",
            "94/94 [==============================] - 11s 102ms/step - loss: 0.6209 - accuracy: 0.6610 - val_loss: 0.5707 - val_accuracy: 0.6972\n",
            "Epoch 2/5\n",
            "94/94 [==============================] - 9s 97ms/step - loss: 0.5434 - accuracy: 0.7130 - val_loss: 0.5249 - val_accuracy: 0.7271\n",
            "Epoch 3/5\n",
            "94/94 [==============================] - 9s 97ms/step - loss: 0.3734 - accuracy: 0.8439 - val_loss: 0.5310 - val_accuracy: 0.7331\n",
            "Epoch 4/5\n",
            "94/94 [==============================] - 9s 96ms/step - loss: 0.2087 - accuracy: 0.9291 - val_loss: 0.7201 - val_accuracy: 0.6867\n",
            "Epoch 5/5\n",
            "94/94 [==============================] - 9s 96ms/step - loss: 0.0838 - accuracy: 0.9789 - val_loss: 0.7388 - val_accuracy: 0.7256\n"
          ],
          "name": "stdout"
        },
        {
          "output_type": "execute_result",
          "data": {
            "text/plain": [
              "<tensorflow.python.keras.callbacks.History at 0x7f6914edc710>"
            ]
          },
          "metadata": {
            "tags": []
          },
          "execution_count": 43
        }
      ]
    },
    {
      "cell_type": "code",
      "metadata": {
        "colab": {
          "base_uri": "https://localhost:8080/"
        },
        "id": "FhyMFHK0MzG0",
        "outputId": "d866dd07-ef82-4e96-e956-8d029516d156"
      },
      "source": [
        "# Evaluating the performance of the model \n",
        "\n",
        "score, acc = model.evaluate(X_test, y_test, batch_size=BATCH_SIZE)\n",
        "print('\\nAccuracy: ', acc*100)\n",
        "predicted = model.predict_classes(X_test)\n",
        "expected = y_test"
      ],
      "execution_count": null,
      "outputs": [
        {
          "output_type": "stream",
          "text": [
            "45/45 [==============================] - 1s 21ms/step - loss: 0.7019 - accuracy: 0.7318\n",
            "\n",
            "Accuracy:  73.1792688369751\n"
          ],
          "name": "stdout"
        }
      ]
    },
    {
      "cell_type": "code",
      "metadata": {
        "colab": {
          "base_uri": "https://localhost:8080/"
        },
        "id": "AqW7vL5JM2rO",
        "outputId": "e045848e-3349-433a-f14c-a2b5a8c2fc70"
      },
      "source": [
        "metrics = Evaluate(y_test, predicted)"
      ],
      "execution_count": null,
      "outputs": [
        {
          "output_type": "stream",
          "text": [
            "Accuracy Score : 73.18%\n",
            "Precision Score : 59.01%\n",
            "Recall Score : 65.66%\n",
            "F1 Score : 62.15%\n"
          ],
          "name": "stdout"
        }
      ]
    },
    {
      "cell_type": "markdown",
      "metadata": {
        "id": "4FFL2lGvgiWN"
      },
      "source": [
        "Here I created a deep learning neural network that read in the description of the Airbnb and tried to predict whether or not the host is a super host (a great host). However, the data is imbalanced with only 26% of the host being super host. In response to this it is better to look at the Precision, recall, and F1 scores over the Accuracy of the model. "
      ]
    },
    {
      "cell_type": "markdown",
      "metadata": {
        "id": "n4ncWeWZLzR0"
      },
      "source": [
        "# Text Analysis with NLTK"
      ]
    },
    {
      "cell_type": "code",
      "metadata": {
        "colab": {
          "base_uri": "https://localhost:8080/"
        },
        "id": "zavsWX_Zic0J",
        "outputId": "fbecc5a5-6f3b-4e35-8cda-0fc7aca007b1"
      },
      "source": [
        "# Getting the encoding of the language to be able to read it in \n",
        "\n",
        "import chardet\n",
        "file = 'reviews.csv'\n",
        "with open(file, 'rb') as rawdata:\n",
        "    result = chardet.detect(rawdata.read(100000))\n",
        "result\n"
      ],
      "execution_count": null,
      "outputs": [
        {
          "output_type": "execute_result",
          "data": {
            "text/plain": [
              "{'confidence': 0.99, 'encoding': 'utf-8', 'language': ''}"
            ]
          },
          "metadata": {
            "tags": []
          },
          "execution_count": 46
        }
      ]
    },
    {
      "cell_type": "code",
      "metadata": {
        "colab": {
          "base_uri": "https://localhost:8080/",
          "height": 204
        },
        "id": "7NUBvfj1D8sX",
        "outputId": "50b82d8a-e126-4ef0-b201-fd411dc6b642"
      },
      "source": [
        "# Have to use a specific encoding for the dataset\n",
        "\n",
        "text_df = pd.read_csv(file, encoding = 'ISO-8859-1')\n",
        "text_df.head()\n"
      ],
      "execution_count": null,
      "outputs": [
        {
          "output_type": "execute_result",
          "data": {
            "text/html": [
              "<div>\n",
              "<style scoped>\n",
              "    .dataframe tbody tr th:only-of-type {\n",
              "        vertical-align: middle;\n",
              "    }\n",
              "\n",
              "    .dataframe tbody tr th {\n",
              "        vertical-align: top;\n",
              "    }\n",
              "\n",
              "    .dataframe thead th {\n",
              "        text-align: right;\n",
              "    }\n",
              "</style>\n",
              "<table border=\"1\" class=\"dataframe\">\n",
              "  <thead>\n",
              "    <tr style=\"text-align: right;\">\n",
              "      <th></th>\n",
              "      <th>date</th>\n",
              "      <th>reviewer_id</th>\n",
              "      <th>reviewer_name</th>\n",
              "      <th>comments</th>\n",
              "    </tr>\n",
              "  </thead>\n",
              "  <tbody>\n",
              "    <tr>\n",
              "      <th>0</th>\n",
              "      <td>3/17/09</td>\n",
              "      <td>7538</td>\n",
              "      <td>Niall</td>\n",
              "      <td>I stayed here during SXSW and had a really ple...</td>\n",
              "    </tr>\n",
              "    <tr>\n",
              "      <th>1</th>\n",
              "      <td>3/22/09</td>\n",
              "      <td>10029</td>\n",
              "      <td>Michael</td>\n",
              "      <td>Great place, close enough to everything downto...</td>\n",
              "    </tr>\n",
              "    <tr>\n",
              "      <th>2</th>\n",
              "      <td>3/16/11</td>\n",
              "      <td>61677</td>\n",
              "      <td>Gustaf</td>\n",
              "      <td>We had a great time in Austin staying at Paddy...</td>\n",
              "    </tr>\n",
              "    <tr>\n",
              "      <th>3</th>\n",
              "      <td>3/15/12</td>\n",
              "      <td>1523753</td>\n",
              "      <td>Noah</td>\n",
              "      <td>We had a great stay at Zen East for South By S...</td>\n",
              "    </tr>\n",
              "    <tr>\n",
              "      <th>4</th>\n",
              "      <td>3/19/12</td>\n",
              "      <td>1547660</td>\n",
              "      <td>Melissa</td>\n",
              "      <td>I arrived late in the evening so did not meet ...</td>\n",
              "    </tr>\n",
              "  </tbody>\n",
              "</table>\n",
              "</div>"
            ],
            "text/plain": [
              "      date  ...                                           comments\n",
              "0  3/17/09  ...  I stayed here during SXSW and had a really ple...\n",
              "1  3/22/09  ...  Great place, close enough to everything downto...\n",
              "2  3/16/11  ...  We had a great time in Austin staying at Paddy...\n",
              "3  3/15/12  ...  We had a great stay at Zen East for South By S...\n",
              "4  3/19/12  ...  I arrived late in the evening so did not meet ...\n",
              "\n",
              "[5 rows x 4 columns]"
            ]
          },
          "metadata": {
            "tags": []
          },
          "execution_count": 47
        }
      ]
    },
    {
      "cell_type": "code",
      "metadata": {
        "colab": {
          "base_uri": "https://localhost:8080/",
          "height": 204
        },
        "id": "86jHXOqs8w-M",
        "outputId": "9dc8c90a-8c4d-4869-a6ab-778c8848618e"
      },
      "source": [
        "# Dropping all of the columns besides comments\n",
        "text_df = text_df.drop(['date', 'reviewer_id', 'reviewer_name'], axis = 1)\n",
        "text_df.head()"
      ],
      "execution_count": null,
      "outputs": [
        {
          "output_type": "execute_result",
          "data": {
            "text/html": [
              "<div>\n",
              "<style scoped>\n",
              "    .dataframe tbody tr th:only-of-type {\n",
              "        vertical-align: middle;\n",
              "    }\n",
              "\n",
              "    .dataframe tbody tr th {\n",
              "        vertical-align: top;\n",
              "    }\n",
              "\n",
              "    .dataframe thead th {\n",
              "        text-align: right;\n",
              "    }\n",
              "</style>\n",
              "<table border=\"1\" class=\"dataframe\">\n",
              "  <thead>\n",
              "    <tr style=\"text-align: right;\">\n",
              "      <th></th>\n",
              "      <th>comments</th>\n",
              "    </tr>\n",
              "  </thead>\n",
              "  <tbody>\n",
              "    <tr>\n",
              "      <th>0</th>\n",
              "      <td>I stayed here during SXSW and had a really ple...</td>\n",
              "    </tr>\n",
              "    <tr>\n",
              "      <th>1</th>\n",
              "      <td>Great place, close enough to everything downto...</td>\n",
              "    </tr>\n",
              "    <tr>\n",
              "      <th>2</th>\n",
              "      <td>We had a great time in Austin staying at Paddy...</td>\n",
              "    </tr>\n",
              "    <tr>\n",
              "      <th>3</th>\n",
              "      <td>We had a great stay at Zen East for South By S...</td>\n",
              "    </tr>\n",
              "    <tr>\n",
              "      <th>4</th>\n",
              "      <td>I arrived late in the evening so did not meet ...</td>\n",
              "    </tr>\n",
              "  </tbody>\n",
              "</table>\n",
              "</div>"
            ],
            "text/plain": [
              "                                            comments\n",
              "0  I stayed here during SXSW and had a really ple...\n",
              "1  Great place, close enough to everything downto...\n",
              "2  We had a great time in Austin staying at Paddy...\n",
              "3  We had a great stay at Zen East for South By S...\n",
              "4  I arrived late in the evening so did not meet ..."
            ]
          },
          "metadata": {
            "tags": []
          },
          "execution_count": 48
        }
      ]
    },
    {
      "cell_type": "code",
      "metadata": {
        "id": "dT1EWBAWFYvy"
      },
      "source": [
        "# Converting comments to a string \n",
        "text_df['comments'] =  text_df['comments'].astype(str)"
      ],
      "execution_count": null,
      "outputs": []
    },
    {
      "cell_type": "code",
      "metadata": {
        "id": "SU67dmASB_A8"
      },
      "source": [
        "# Getting the most common senteces being written\n",
        "from nltk.probability import FreqDist\n",
        "fdist = FreqDist(text_df['comments'])"
      ],
      "execution_count": null,
      "outputs": []
    },
    {
      "cell_type": "code",
      "metadata": {
        "colab": {
          "base_uri": "https://localhost:8080/"
        },
        "id": "LOlIEyp8CYU3",
        "outputId": "de176056-1b35-46ed-83de-519a175cc000"
      },
      "source": [
        "fdist.most_common(10)"
      ],
      "execution_count": null,
      "outputs": [
        {
          "output_type": "execute_result",
          "data": {
            "text/plain": [
              "[('The host canceled this reservation  days before arrival. This is an automated posting.',\n",
              "  2),\n",
              " ('Super helpful and convenient!', 2),\n",
              " ('The reservation was canceled 2 days before arrival. This is an automated posting.',\n",
              "  2),\n",
              " ('Great location!', 2),\n",
              " ('Great place to stay in Austin!', 2),\n",
              " ('A great place to stay!', 2),\n",
              " ('I stayed here during SXSW and had a really pleasant stay.  The house is a very relaxing environment and Paddy is both a friendly and professional host. ',\n",
              "  1),\n",
              " ('Great place, close enough to everything downtown Austin has, yet just far enough to be relaxing and quiet.  An excellent place to regroup and recharge.  Paddy respected my privacy and different hours.  The place is clean and hip - I would stay with Paddy again.  You must be okay with dogs. ',\n",
              "  1),\n",
              " (\"We had a great time in Austin staying at Paddy's house. The house is much larger than it looks on the photos, very clean and the moment you step in you feel like home. Wouldn't hesitate to stay there again next time I'm back in Austin. \",\n",
              "  1),\n",
              " ('We had a great stay at Zen East for South By Southwest!  Paddy was extremely accommodating and we found the place to be exotic and homely.  It was easy to settle right in and experience Austin, and everything was a short taxi or bus ride away.  She had everything we needed for our stay, and we loved the zen vibe of the backyard garden. ',\n",
              "  1)]"
            ]
          },
          "metadata": {
            "tags": []
          },
          "execution_count": 51
        }
      ]
    },
    {
      "cell_type": "code",
      "metadata": {
        "id": "hAW-pK8t6SgC"
      },
      "source": [
        "# Impoting all of the NLTK packages and converting everyword in 'comments' to lower case\n",
        "\n",
        "import nltk\n",
        "from nltk.corpus import stopwords\n",
        "from nltk.stem import PorterStemmer\n",
        "from nltk.stem import LancasterStemmer\n",
        "from nltk.tokenize import sent_tokenize\n",
        "from nltk.tokenize import word_tokenize\n",
        "\n",
        "text_df['comments'] = text_df['comments'].str.lower()\n"
      ],
      "execution_count": null,
      "outputs": []
    },
    {
      "cell_type": "code",
      "metadata": {
        "colab": {
          "base_uri": "https://localhost:8080/"
        },
        "id": "e7YUA78D61-M",
        "outputId": "9e022cea-63fc-4267-bd71-dcf0bb08f64b"
      },
      "source": [
        "text_df['comments'].head()\n"
      ],
      "execution_count": null,
      "outputs": [
        {
          "output_type": "execute_result",
          "data": {
            "text/plain": [
              "0    i stayed here during sxsw and had a really ple...\n",
              "1    great place, close enough to everything downto...\n",
              "2    we had a great time in austin staying at paddy...\n",
              "3    we had a great stay at zen east for south by s...\n",
              "4    i arrived late in the evening so did not meet ...\n",
              "Name: comments, dtype: object"
            ]
          },
          "metadata": {
            "tags": []
          },
          "execution_count": 53
        }
      ]
    },
    {
      "cell_type": "code",
      "metadata": {
        "colab": {
          "base_uri": "https://localhost:8080/"
        },
        "id": "tz3rHllG8LvI",
        "outputId": "c0673fb2-d566-48c3-d466-a1b72789e12d"
      },
      "source": [
        "# https://medium.com/biaslyai/beginners-guide-to-text-preprocessing-in-python-2cbeafbf5f44\n",
        "# the link above helped m\n",
        "# Tokenizing every word in comments, have to create a for loop so that it can read in every sentence individually to be tokenized\n",
        "nltk.download('punkt')\n",
        "\n",
        "index = text_df.index\n",
        "number_of_rows = len(index)\n",
        "\n",
        "for x in range(0, number_of_rows):\n",
        "  nltk.word_tokenize(text_df['comments'].iloc[x])\n",
        "\n",
        "text_df['comments']"
      ],
      "execution_count": null,
      "outputs": [
        {
          "output_type": "stream",
          "text": [
            "[nltk_data] Downloading package punkt to /root/nltk_data...\n",
            "[nltk_data]   Unzipping tokenizers/punkt.zip.\n"
          ],
          "name": "stdout"
        },
        {
          "output_type": "execute_result",
          "data": {
            "text/plain": [
              "0       i stayed here during sxsw and had a really ple...\n",
              "1       great place, close enough to everything downto...\n",
              "2       we had a great time in austin staying at paddy...\n",
              "3       we had a great stay at zen east for south by s...\n",
              "4       i arrived late in the evening so did not meet ...\n",
              "                              ...                        \n",
              "2470    the studio apartment was really perfectly set ...\n",
              "2471    billâs place had everything we were looking ...\n",
              "2472    the pool is heaven and the apartment is luxuri...\n",
              "2473                                   beautiful property\n",
              "2474    the property is absolutely gorgeous and within...\n",
              "Name: comments, Length: 2475, dtype: object"
            ]
          },
          "metadata": {
            "tags": []
          },
          "execution_count": 54
        }
      ]
    },
    {
      "cell_type": "code",
      "metadata": {
        "id": "WqSxPpwn-dRg"
      },
      "source": [
        "def identify_tokens(row):\n",
        "    review = row['comments']\n",
        "    tokens = nltk.word_tokenize(review)\n",
        "    # taken only words (not punctuation)\n",
        "    token_words = [w for w in tokens if w.isalpha()]\n",
        "    return token_words\n",
        "\n",
        "text_df['comments'] = text_df.apply(identify_tokens, axis=1)"
      ],
      "execution_count": null,
      "outputs": []
    },
    {
      "cell_type": "code",
      "metadata": {
        "colab": {
          "base_uri": "https://localhost:8080/",
          "height": 204
        },
        "id": "bsPrWTCm-5Ac",
        "outputId": "ba14dae1-fb7f-4221-d2a2-f602ffc5fac3"
      },
      "source": [
        "text_df.head()"
      ],
      "execution_count": null,
      "outputs": [
        {
          "output_type": "execute_result",
          "data": {
            "text/html": [
              "<div>\n",
              "<style scoped>\n",
              "    .dataframe tbody tr th:only-of-type {\n",
              "        vertical-align: middle;\n",
              "    }\n",
              "\n",
              "    .dataframe tbody tr th {\n",
              "        vertical-align: top;\n",
              "    }\n",
              "\n",
              "    .dataframe thead th {\n",
              "        text-align: right;\n",
              "    }\n",
              "</style>\n",
              "<table border=\"1\" class=\"dataframe\">\n",
              "  <thead>\n",
              "    <tr style=\"text-align: right;\">\n",
              "      <th></th>\n",
              "      <th>comments</th>\n",
              "    </tr>\n",
              "  </thead>\n",
              "  <tbody>\n",
              "    <tr>\n",
              "      <th>0</th>\n",
              "      <td>[i, stayed, here, during, sxsw, and, had, a, r...</td>\n",
              "    </tr>\n",
              "    <tr>\n",
              "      <th>1</th>\n",
              "      <td>[great, place, close, enough, to, everything, ...</td>\n",
              "    </tr>\n",
              "    <tr>\n",
              "      <th>2</th>\n",
              "      <td>[we, had, a, great, time, in, austin, staying,...</td>\n",
              "    </tr>\n",
              "    <tr>\n",
              "      <th>3</th>\n",
              "      <td>[we, had, a, great, stay, at, zen, east, for, ...</td>\n",
              "    </tr>\n",
              "    <tr>\n",
              "      <th>4</th>\n",
              "      <td>[i, arrived, late, in, the, evening, so, did, ...</td>\n",
              "    </tr>\n",
              "  </tbody>\n",
              "</table>\n",
              "</div>"
            ],
            "text/plain": [
              "                                            comments\n",
              "0  [i, stayed, here, during, sxsw, and, had, a, r...\n",
              "1  [great, place, close, enough, to, everything, ...\n",
              "2  [we, had, a, great, time, in, austin, staying,...\n",
              "3  [we, had, a, great, stay, at, zen, east, for, ...\n",
              "4  [i, arrived, late, in, the, evening, so, did, ..."
            ]
          },
          "metadata": {
            "tags": []
          },
          "execution_count": 56
        }
      ]
    },
    {
      "cell_type": "code",
      "metadata": {
        "id": "dsPOMD1K8buh"
      },
      "source": [
        "# Stemming every word in the dataframe\n",
        "\n",
        "from nltk.stem import PorterStemmer\n",
        "stemming = PorterStemmer()\n",
        "\n",
        "def stem_list(row):\n",
        "    my_list = row['comments']\n",
        "    stemmed_list = [stemming.stem(word) for word in my_list]\n",
        "    return (stemmed_list)\n",
        "\n",
        "text_df['comments'] = text_df.apply(stem_list, axis=1)"
      ],
      "execution_count": null,
      "outputs": []
    },
    {
      "cell_type": "code",
      "metadata": {
        "colab": {
          "base_uri": "https://localhost:8080/"
        },
        "id": "ytNfijms_GW3",
        "outputId": "ce787061-3184-4100-c2df-0ae830d27a35"
      },
      "source": [
        "# Removing all of the stopwords \n",
        "\n",
        "from nltk.corpus import stopwords\n",
        "nltk.download('stopwords')\n",
        "stops = set(stopwords.words(\"english\"))                  \n",
        "\n",
        "def remove_stops(row):\n",
        "    my_list = row['comments']\n",
        "    meaningful_words = [w for w in my_list if not w in stops]\n",
        "    return (meaningful_words)\n",
        "\n",
        "text_df['comments'] = text_df.apply(remove_stops, axis=1)"
      ],
      "execution_count": null,
      "outputs": [
        {
          "output_type": "stream",
          "text": [
            "[nltk_data] Downloading package stopwords to /root/nltk_data...\n",
            "[nltk_data]   Unzipping corpora/stopwords.zip.\n"
          ],
          "name": "stdout"
        }
      ]
    },
    {
      "cell_type": "code",
      "metadata": {
        "colab": {
          "base_uri": "https://localhost:8080/",
          "height": 204
        },
        "id": "tBsalETt__Z7",
        "outputId": "c3c3b5ae-b61c-4199-b7c6-d289b9981250"
      },
      "source": [
        "text_df.head()"
      ],
      "execution_count": null,
      "outputs": [
        {
          "output_type": "execute_result",
          "data": {
            "text/html": [
              "<div>\n",
              "<style scoped>\n",
              "    .dataframe tbody tr th:only-of-type {\n",
              "        vertical-align: middle;\n",
              "    }\n",
              "\n",
              "    .dataframe tbody tr th {\n",
              "        vertical-align: top;\n",
              "    }\n",
              "\n",
              "    .dataframe thead th {\n",
              "        text-align: right;\n",
              "    }\n",
              "</style>\n",
              "<table border=\"1\" class=\"dataframe\">\n",
              "  <thead>\n",
              "    <tr style=\"text-align: right;\">\n",
              "      <th></th>\n",
              "      <th>comments</th>\n",
              "    </tr>\n",
              "  </thead>\n",
              "  <tbody>\n",
              "    <tr>\n",
              "      <th>0</th>\n",
              "      <td>[stay, dure, sxsw, realli, pleasant, stay, hou...</td>\n",
              "    </tr>\n",
              "    <tr>\n",
              "      <th>1</th>\n",
              "      <td>[great, place, close, enough, everyth, downtow...</td>\n",
              "    </tr>\n",
              "    <tr>\n",
              "      <th>2</th>\n",
              "      <td>[great, time, austin, stay, paddi, hous, hous,...</td>\n",
              "    </tr>\n",
              "    <tr>\n",
              "      <th>3</th>\n",
              "      <td>[great, stay, zen, east, south, southwest, pad...</td>\n",
              "    </tr>\n",
              "    <tr>\n",
              "      <th>4</th>\n",
              "      <td>[arriv, late, even, meet, paddi, home, wa, lov...</td>\n",
              "    </tr>\n",
              "  </tbody>\n",
              "</table>\n",
              "</div>"
            ],
            "text/plain": [
              "                                            comments\n",
              "0  [stay, dure, sxsw, realli, pleasant, stay, hou...\n",
              "1  [great, place, close, enough, everyth, downtow...\n",
              "2  [great, time, austin, stay, paddi, hous, hous,...\n",
              "3  [great, stay, zen, east, south, southwest, pad...\n",
              "4  [arriv, late, even, meet, paddi, home, wa, lov..."
            ]
          },
          "metadata": {
            "tags": []
          },
          "execution_count": 59
        }
      ]
    },
    {
      "cell_type": "code",
      "metadata": {
        "id": "pL5Y-bK8QrXV"
      },
      "source": [
        "text_df['comments'] =  text_df['comments'].astype(str)"
      ],
      "execution_count": null,
      "outputs": []
    },
    {
      "cell_type": "code",
      "metadata": {
        "colab": {
          "base_uri": "https://localhost:8080/"
        },
        "id": "ILwRcdt6Q3KK",
        "outputId": "ba118cf8-58f6-448b-b2ed-9eaec1b7c948"
      },
      "source": [
        "text_df['comments'].head()"
      ],
      "execution_count": null,
      "outputs": [
        {
          "output_type": "execute_result",
          "data": {
            "text/plain": [
              "0    ['stay', 'dure', 'sxsw', 'realli', 'pleasant',...\n",
              "1    ['great', 'place', 'close', 'enough', 'everyth...\n",
              "2    ['great', 'time', 'austin', 'stay', 'paddi', '...\n",
              "3    ['great', 'stay', 'zen', 'east', 'south', 'sou...\n",
              "4    ['arriv', 'late', 'even', 'meet', 'paddi', 'ho...\n",
              "Name: comments, dtype: object"
            ]
          },
          "metadata": {
            "tags": []
          },
          "execution_count": 61
        }
      ]
    },
    {
      "cell_type": "code",
      "metadata": {
        "id": "Kw7nMJvRIELv"
      },
      "source": [
        "# Reading in every word to be able to find the most common word being typed in the reviews \n",
        "\n",
        "tok_list = []\n",
        "\n",
        "for x in range(0, number_of_rows):\n",
        "  tok_list.append(text_df['comments'].iloc[x])"
      ],
      "execution_count": null,
      "outputs": []
    },
    {
      "cell_type": "code",
      "metadata": {
        "colab": {
          "base_uri": "https://localhost:8080/"
        },
        "id": "9_QHTY6rJMmP",
        "outputId": "591bf7d0-fbbb-48e3-ca75-1216bfbba26a"
      },
      "source": [
        "from nltk.probability import FreqDist\n",
        "fdist = FreqDist(tok_list)\n",
        "print(fdist)"
      ],
      "execution_count": null,
      "outputs": [
        {
          "output_type": "stream",
          "text": [
            "<FreqDist with 2456 samples and 2475 outcomes>\n"
          ],
          "name": "stdout"
        }
      ]
    },
    {
      "cell_type": "code",
      "metadata": {
        "colab": {
          "base_uri": "https://localhost:8080/"
        },
        "id": "PP8MuykZBX0K",
        "outputId": "1de50d55-e004-46b1-8337-e15b1212b58b"
      },
      "source": [
        "freq = FreqDist(tok_list)\n",
        "freq.most_common(10)"
      ],
      "execution_count": null,
      "outputs": [
        {
          "output_type": "execute_result",
          "data": {
            "text/plain": [
              "[(\"['great', 'place', 'stay']\", 5),\n",
              " (\"['reserv', 'wa', 'cancel', 'day', 'befor', 'arriv', 'thi', 'autom', 'post']\",\n",
              "  5),\n",
              " (\"['host', 'cancel', 'thi', 'reserv', 'day', 'befor', 'arriv', 'thi', 'autom', 'post']\",\n",
              "  3),\n",
              " (\"['great', 'locat']\", 3),\n",
              " (\"['great', 'stay']\", 3),\n",
              " (\"['super', 'help', 'conveni']\", 2),\n",
              " (\"['love']\", 2),\n",
              " (\"['great', 'place', 'stay', 'austin']\", 2),\n",
              " (\"['great', 'place', 'stay', 'visit', 'austin']\", 2),\n",
              " (\"['great', 'place', 'great', 'locat']\", 2)]"
            ]
          },
          "metadata": {
            "tags": []
          },
          "execution_count": 64
        }
      ]
    },
    {
      "cell_type": "markdown",
      "metadata": {
        "id": "QgbH05zfiNcg"
      },
      "source": [
        "The last modeling I did was a text analysis on reviews. I had to use the nltk package because the data text had a lot of numbers and the words needed to be stemmed (put back to their origin word).\n",
        "Being I did that I looked at the most common phrases from the dataset, as you can see that besides for two of the top sentences most of them are saying how great their stay was and how much they enjoyed it. This goes along with the most common words used, as you can see 'great' was clearly used more than any other word and their was only a few negative words. "
      ]
    },
    {
      "cell_type": "markdown",
      "metadata": {
        "id": "Iec4k81uFYIA"
      },
      "source": [
        "Conclusion: The biggest challenge with this project was the text analysis part of this work. I originally was trying to do the text analysis part of this without using NLTK, this lead to problems of having multiple numbers in the words and the words not being stemmed. I had to figure out through online tutorials how to implemeant NLTK text analysis for a dataframe which lead to the most of my troubles. The quality of my results are that the visualizations are clear with no overlapping text or hard to read charts and every model achieved what it set out to do. Two ways I could try and improve my model would be to try and get a better result for my KNN regression model and to get a more clear output for the text analysis portion of my project. I believed I achieved the high target A range for this project, I completed everything I set out to do and in the high target range for my project I said that to achieve an A I had to do a challenge for myself and I believe implementing NLTK text analysis was a challenge that I acheived. "
      ]
    },
    {
      "cell_type": "code",
      "metadata": {
        "id": "8qRr2T2-43U2"
      },
      "source": [
        ""
      ],
      "execution_count": null,
      "outputs": []
    }
  ]
}